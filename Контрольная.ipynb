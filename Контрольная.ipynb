{
 "cells": [
  {
   "cell_type": "markdown",
   "id": "afc6da59",
   "metadata": {},
   "source": [
    "# Базовый python"
   ]
  },
  {
   "cell_type": "code",
   "execution_count": 495,
   "id": "859bebd3",
   "metadata": {},
   "outputs": [],
   "source": [
    "import numpy as np\n",
    "import pandas as pd\n",
    "import scipy\n",
    "from scipy.ndimage import convolve1d\n",
    "import matplotlib.pyplot as plt\n",
    "from PIL import Image\n",
    "from itertools import permutations\n",
    "from calendar import monthrange"
   ]
  },
  {
   "cell_type": "markdown",
   "id": "93956b86",
   "metadata": {},
   "source": [
    "Задача 1(первая часть заданий)"
   ]
  },
  {
   "cell_type": "code",
   "execution_count": 433,
   "id": "bc322ced",
   "metadata": {},
   "outputs": [],
   "source": [
    "def tens(x):\n",
    "    if (x//10)%10 == 0:\n",
    "        return -1\n",
    "    else:\n",
    "        return((x//10)%10)"
   ]
  },
  {
   "cell_type": "markdown",
   "id": "95497359",
   "metadata": {},
   "source": [
    "Задача 2"
   ]
  },
  {
   "cell_type": "code",
   "execution_count": 434,
   "id": "64884d0e",
   "metadata": {},
   "outputs": [],
   "source": [
    "def palindrom(s):\n",
    "    s = s.replace(' ', '')\n",
    "    s = s.lower()\n",
    "    for x in s:\n",
    "        if type(x) == int:\n",
    "            s = s.replace(x, '')\n",
    "    for x in s:\n",
    "        if ord(x) < 97:\n",
    "            s = s.replace(x, '')\n",
    "        elif ord(x) > 122:\n",
    "            s = s.replace(x, '')\n",
    "    return(s == s[::-1])"
   ]
  },
  {
   "cell_type": "markdown",
   "id": "e260f8c6",
   "metadata": {},
   "source": [
    "Задача 5"
   ]
  },
  {
   "cell_type": "code",
   "execution_count": 435,
   "id": "276668ff",
   "metadata": {},
   "outputs": [],
   "source": [
    "def deg(x):\n",
    "    if x == 0:\n",
    "        return 0\n",
    "    if abs(x) == 1:\n",
    "        return 1\n",
    "    factors = []\n",
    "    div = 2\n",
    "    while div * div <= x:\n",
    "        if x % div == 0:\n",
    "            factors.append(div)\n",
    "            x //= div\n",
    "        else:\n",
    "            div += 1\n",
    "    if x > 1:\n",
    "        factors.append(x)\n",
    "    s = str(factors)\n",
    "    s = s.replace('[', '')\n",
    "    s = s.replace(']', '')\n",
    "    s = s.replace(',', '')\n",
    "    s = s.replace(' ', '')\n",
    "    counter = 0\n",
    "    for i in range(0, len(s), 1):\n",
    "        if s.count(s[i]) > counter:\n",
    "            counter = s.count(s[i])\n",
    "    return counter\n"
   ]
  },
  {
   "cell_type": "markdown",
   "id": "e2fc671d",
   "metadata": {},
   "source": [
    "Задача 7"
   ]
  },
  {
   "cell_type": "code",
   "execution_count": 436,
   "id": "8f0856e4",
   "metadata": {},
   "outputs": [],
   "source": [
    "def is_it_date(date):\n",
    "    date = date.split('.')\n",
    "    year = int(date[0])\n",
    "    month = int(date[1])\n",
    "    day = int(date[2])\n",
    "    if (year % 100 == 0 and year % 400 != 0) or (year % 4 != 0):\n",
    "        if month == 1 or  month == 3 or  month == 5 or  month == 7 or  month == 8 or  month == 10 or  month == 12:\n",
    "            return(0<day<32)\n",
    "        elif month == 2:\n",
    "            return(0<day<29)\n",
    "        elif 0<month<12:\n",
    "            return(0<day<31)\n",
    "    elif (year % 400 == 0) or (year % 4 ==0):\n",
    "        if month == 1 or  month == 3 or  month == 5 or  month == 7 or  month == 8 or  month == 10 or  month == 12:\n",
    "            return(0<day<32)\n",
    "        elif month == 2:\n",
    "            return(0<day<30)\n",
    "        elif 0<month<12:\n",
    "            return(0<day<31)\n",
    "    return(0<month<12)"
   ]
  },
  {
   "cell_type": "markdown",
   "id": "0613435e",
   "metadata": {},
   "source": [
    "Задача 10"
   ]
  },
  {
   "cell_type": "code",
   "execution_count": 437,
   "id": "f092be4a",
   "metadata": {},
   "outputs": [],
   "source": [
    "def alphabet(file_name):\n",
    "    s = open(file_name, \"r\").read().lower()\n",
    "    result = {}\n",
    "    number = 0\n",
    "    for let in s:\n",
    "        if ord('a') <= ord(let) <= ord('z'):\n",
    "            x = result.get(let, 0)\n",
    "            result[let] = x + 1\n",
    "            number += 1\n",
    "    for key in result:\n",
    "        result[key] = result[key] / number\n",
    "    return result"
   ]
  },
  {
   "cell_type": "markdown",
   "id": "12833868",
   "metadata": {},
   "source": [
    "Задача 3(вторая часть заданий)"
   ]
  },
  {
   "cell_type": "code",
   "execution_count": 438,
   "id": "aaed5de1",
   "metadata": {},
   "outputs": [],
   "source": [
    "def podstroka(a, b):\n",
    "    counter = 0\n",
    "    for i in range(1, len(a)+1, 1):\n",
    "        if b == a[i-len(b):i]:\n",
    "            counter += 1\n",
    "    return counter"
   ]
  },
  {
   "cell_type": "markdown",
   "id": "cf5ccc61",
   "metadata": {},
   "source": [
    "# Numpy"
   ]
  },
  {
   "cell_type": "markdown",
   "id": "a290929b",
   "metadata": {},
   "source": [
    "Задача 1(первая часть заданий)"
   ]
  },
  {
   "cell_type": "code",
   "execution_count": 439,
   "id": "0cf998d4",
   "metadata": {},
   "outputs": [],
   "source": [
    "def degree(vector_1, vector_2):\n",
    "    vector_1_len = 0\n",
    "    vector_2_len = 0 \n",
    "    for i in range(len(vector_1)):\n",
    "        vector_1_len += vector_1[i]**2\n",
    "        vector_2_len += vector_2[i]**2\n",
    "    vector_2 = np.transpose(vector_2)\n",
    "    cos = no.dot(vector_1, vector_2)/np.sqrt(vector_1_len * vector_2_len)\n",
    "    return (np.rad2deg(np.arccos(cos)))"
   ]
  },
  {
   "cell_type": "markdown",
   "id": "14f5d67a",
   "metadata": {},
   "source": [
    "Задача 2"
   ]
  },
  {
   "cell_type": "code",
   "execution_count": 440,
   "id": "1748224c",
   "metadata": {},
   "outputs": [],
   "source": [
    "def odd_or_even_perm(s):\n",
    "    inversions = 0\n",
    "    for i in range(len(s)):\n",
    "        for j in range(i + 1, len(s)):\n",
    "            if (s[i]>s[j]):\n",
    "                inversions += 1\n",
    "    if (inversions % 2) == 0:\n",
    "        return 1\n",
    "    else:\n",
    "        return -1"
   ]
  },
  {
   "cell_type": "code",
   "execution_count": 441,
   "id": "e65fba73",
   "metadata": {},
   "outputs": [],
   "source": [
    "def levi_civita(n, g=1):\n",
    "    array = np.zeros([n] * n)\n",
    "    perms = set(permutations(np.arange(0, n)))\n",
    "    for i in perms:\n",
    "        array[i] = odd_or_even_perm(i)*g\n",
    "    return array.astype(int)"
   ]
  },
  {
   "cell_type": "markdown",
   "id": "63e63be6",
   "metadata": {},
   "source": [
    "Задача 6"
   ]
  },
  {
   "cell_type": "code",
   "execution_count": 442,
   "id": "9def0e6a",
   "metadata": {},
   "outputs": [],
   "source": [
    "def solution(matrix, column):\n",
    "    return np.linal.solve(matrix, column)"
   ]
  },
  {
   "cell_type": "markdown",
   "id": "361bbba8",
   "metadata": {},
   "source": [
    "Задача 7"
   ]
  },
  {
   "cell_type": "code",
   "execution_count": 443,
   "id": "b2bfc467",
   "metadata": {},
   "outputs": [],
   "source": [
    "def graph(f, f_left, f_right, file_name):\n",
    "    x = np.arange(f_left, f_right)\n",
    "    plt.plot(x, f(x))\n",
    "    plt.savefig(file_name)"
   ]
  },
  {
   "cell_type": "markdown",
   "id": "b045bb62",
   "metadata": {},
   "source": [
    "Задача 5(вторая часть заданий)"
   ]
  },
  {
   "cell_type": "code",
   "execution_count": 444,
   "id": "a3c801bd",
   "metadata": {},
   "outputs": [],
   "source": [
    "def matrix_mult(matrix_1, matrix_2):\n",
    "    return np.matmul(matrix_1, matrix_2)"
   ]
  },
  {
   "cell_type": "markdown",
   "id": "536f5650",
   "metadata": {},
   "source": [
    "# Pandas"
   ]
  },
  {
   "cell_type": "code",
   "execution_count": 445,
   "id": "adf44de5",
   "metadata": {},
   "outputs": [],
   "source": [
    "f = pd.read_csv(\"use.csv\")"
   ]
  },
  {
   "cell_type": "markdown",
   "id": "ad2f8d7e",
   "metadata": {},
   "source": [
    "Задача 1"
   ]
  },
  {
   "cell_type": "code",
   "execution_count": 446,
   "id": "2ccaf6d2",
   "metadata": {},
   "outputs": [],
   "source": [
    "def dictionary(DataFrame):\n",
    "    result = {}\n",
    "    result['number_of_students'] = DataFrame[DataFrame.isna()].shape[0] \n",
    "    result['mean_math'] = DataFrame['Maths'].mean() \n",
    "    result['mean_russian_for_physicists'] = DataFrame[DataFrame['Physics'] == 100]['Russian'].mean() \n",
    "    result['agg_math'] = DataFrame.groupby([\"Maths\"]).agg({\"Russian\" : \"max\", \"Physics\" : \"max\"})\n",
    "    result['agg_math_count'] = DataFrame.groupby([\"Maths\"]).size()\n",
    "    result['number_coincidences'] = DataFrame[f['Maths'] == DataFrame['Physics']][DataFrame[DataFrame['Maths'] == DataFrame['Physics']]['Maths'] == DataFrame[DataFrame['Maths'] == DataFrame['Physics']]['Russian']].shape[0]\n",
    "    result['sum'] = DataFrame['Maths'] + DataFrame['Physics'] + DataFrame['Russian']\n",
    "    result['max_number_coincidence'] = DataFrame.groupby(result['sum']).size()[DataFrame.groupby(result['sum']).size() == 1].index.max()\n",
    "    return result"
   ]
  },
  {
   "cell_type": "code",
   "execution_count": 447,
   "id": "e828759e",
   "metadata": {},
   "outputs": [
    {
     "data": {
      "text/plain": [
       "{'number_of_students': 905,\n",
       " 'mean_math': 89.24088397790055,\n",
       " 'mean_russian_for_physicists': 91.77372262773723,\n",
       " 'agg_math':        Russian  Physics\n",
       " Maths                  \n",
       " 62         100       87\n",
       " 68          88       85\n",
       " 70          82       80\n",
       " 72          94      100\n",
       " 74          98       95\n",
       " 76          98       99\n",
       " 78         100      100\n",
       " 80         100      100\n",
       " 82         100      100\n",
       " 84         100      100\n",
       " 86         100      100\n",
       " 88         100      100\n",
       " 90         100      100\n",
       " 92         100      100\n",
       " 93          87       95\n",
       " 94         100      100\n",
       " 95          88       98\n",
       " 96         100      100\n",
       " 98         100      100\n",
       " 99         100      100\n",
       " 100        100      100,\n",
       " 'agg_math_count': Maths\n",
       " 62      5\n",
       " 68      4\n",
       " 70      6\n",
       " 72      8\n",
       " 74     13\n",
       " 76     16\n",
       " 78     34\n",
       " 80     41\n",
       " 82     57\n",
       " 84     64\n",
       " 86     90\n",
       " 88     84\n",
       " 90     83\n",
       " 92     78\n",
       " 93      1\n",
       " 94     84\n",
       " 95      4\n",
       " 96     67\n",
       " 98     56\n",
       " 99     42\n",
       " 100    68\n",
       " dtype: int64,\n",
       " 'number_coincidences': 6,\n",
       " 'sum': 0      300\n",
       " 1      300\n",
       " 2      300\n",
       " 3      300\n",
       " 4      299\n",
       "       ... \n",
       " 900    214\n",
       " 901    215\n",
       " 902    210\n",
       " 903    196\n",
       " 904    199\n",
       " Length: 905, dtype: int64,\n",
       " 'max_number_coincidence': 293}"
      ]
     },
     "execution_count": 447,
     "metadata": {},
     "output_type": "execute_result"
    }
   ],
   "source": [
    "dictionary(f)"
   ]
  },
  {
   "cell_type": "markdown",
   "id": "4734582d",
   "metadata": {},
   "source": [
    "Задача 2"
   ]
  },
  {
   "cell_type": "code",
   "execution_count": 490,
   "id": "5defabc5",
   "metadata": {},
   "outputs": [],
   "source": [
    "def days(DataFrame):\n",
    "    DataFrame['year'] = 0 \n",
    "    DataFrame['month'] = 0\n",
    "    DataFrame['day'] = 0\n",
    "    DataFrame['Days_Count'] = 0\n",
    "    for i in range(DataFrame.shape[0]):\n",
    "        DataFrame.year[i] = str(DataFrame.Data[i]).split('.')[0]\n",
    "        DataFrame.month[i] = str(DataFrame.Data[i]).split('.')[1]\n",
    "        DataFrame.day[i] = str(DataFrame.Data[i]).split('.')[2]\n",
    "        DataFrame.Days_Count[i] = 365 * (DataFrame.year[i]-1) + ((DataFrame.year[i]-1) //4 - (DataFrame.year[i]-1) //100 + (DataFrame.year[i]-1) //400) + DataFrame.day[i]\n",
    "        for i in range(1, DataFrame.month[i]):\n",
    "            DataFrame.Days_Count[i] += monthrange(DataFrame.year[i], DataFrame.month[i])\n",
    "    DataFrame.drop(columns = ['year'], axis = 1, inplace = True)\n",
    "    DataFrame.drop(columns = ['month'], axis = 1, inplace = True)\n",
    "    DataFrame.drop(columns = ['day'], axis = 1, inplace = True)\n",
    "    return DataFrame"
   ]
  },
  {
   "cell_type": "markdown",
   "id": "8d1b4988",
   "metadata": {},
   "source": [
    "Задача 3"
   ]
  },
  {
   "cell_type": "code",
   "execution_count": 515,
   "id": "f93e63b9",
   "metadata": {},
   "outputs": [],
   "source": [
    "def mean_array(arr, n):\n",
    "    result = [1] * (len(arr)+2)\n",
    "    for i in range(1, len(result)-1):\n",
    "        result[i] = arr[i-1]\n",
    "    weights = [1/(n+1)] * (n+1)\n",
    "    result = scipy.ndimage.convolve1d(result, weights)\n",
    "    result[0] = 0\n",
    "    result[len(result)-1] = 0\n",
    "    return result"
   ]
  }
 ],
 "metadata": {
  "kernelspec": {
   "display_name": "Python 3 (ipykernel)",
   "language": "python",
   "name": "python3"
  },
  "language_info": {
   "codemirror_mode": {
    "name": "ipython",
    "version": 3
   },
   "file_extension": ".py",
   "mimetype": "text/x-python",
   "name": "python",
   "nbconvert_exporter": "python",
   "pygments_lexer": "ipython3",
   "version": "3.10.7"
  }
 },
 "nbformat": 4,
 "nbformat_minor": 5
}
